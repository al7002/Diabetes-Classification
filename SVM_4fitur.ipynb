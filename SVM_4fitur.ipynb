{
  "nbformat": 4,
  "nbformat_minor": 0,
  "metadata": {
    "colab": {
      "provenance": []
    },
    "kernelspec": {
      "name": "python3",
      "display_name": "Python 3"
    },
    "language_info": {
      "name": "python"
    }
  },
  "cells": [
    {
      "cell_type": "code",
      "execution_count": null,
      "metadata": {
        "colab": {
          "base_uri": "https://localhost:8080/"
        },
        "id": "es6An_9NvPRZ",
        "outputId": "99ea5c7c-574b-49c2-8ae3-90cd4f0fbc2a"
      },
      "outputs": [
        {
          "output_type": "stream",
          "name": "stdout",
          "text": [
            "Requirement already satisfied: imbalanced-learn in /usr/local/lib/python3.11/dist-packages (0.13.0)\n",
            "Requirement already satisfied: numpy<3,>=1.24.3 in /usr/local/lib/python3.11/dist-packages (from imbalanced-learn) (2.0.2)\n",
            "Requirement already satisfied: scipy<2,>=1.10.1 in /usr/local/lib/python3.11/dist-packages (from imbalanced-learn) (1.15.3)\n",
            "Requirement already satisfied: scikit-learn<2,>=1.3.2 in /usr/local/lib/python3.11/dist-packages (from imbalanced-learn) (1.6.1)\n",
            "Requirement already satisfied: sklearn-compat<1,>=0.1 in /usr/local/lib/python3.11/dist-packages (from imbalanced-learn) (0.1.3)\n",
            "Requirement already satisfied: joblib<2,>=1.1.1 in /usr/local/lib/python3.11/dist-packages (from imbalanced-learn) (1.5.1)\n",
            "Requirement already satisfied: threadpoolctl<4,>=2.0.0 in /usr/local/lib/python3.11/dist-packages (from imbalanced-learn) (3.6.0)\n",
            "Drive already mounted at /content/drive; to attempt to forcibly remount, call drive.mount(\"/content/drive\", force_remount=True).\n"
          ]
        }
      ],
      "source": [
        "!pip install imbalanced-learn\n",
        "\n",
        "# 1. Mount Google Drive\n",
        "from google.colab import drive\n",
        "drive.mount('/content/drive')"
      ]
    },
    {
      "cell_type": "code",
      "source": [
        "# 2. Import libraries\n",
        "import pandas as pd\n",
        "import numpy as np\n",
        "from sklearn.model_selection import train_test_split\n",
        "from sklearn.preprocessing import StandardScaler\n",
        "from sklearn.impute import SimpleImputer\n",
        "from sklearn.metrics import classification_report, confusion_matrix, accuracy_score\n",
        "from sklearn.svm import SVC\n",
        "import matplotlib.pyplot as plt\n",
        "import seaborn as sns\n",
        "from imblearn.over_sampling import SMOTE\n",
        "from sklearn.model_selection import GridSearchCV"
      ],
      "metadata": {
        "id": "V8lXBiGdvZf-"
      },
      "execution_count": null,
      "outputs": []
    },
    {
      "cell_type": "code",
      "source": [
        "# 3. Baca dataset\n",
        "df = pd.read_csv('/content/drive/MyDrive/Tugas ML/diabetes.csv')\n",
        "\n",
        "# 4. Ambil hanya 4 fitur penting\n",
        "selected_features = ['Glucose', 'BMI', 'Age', 'Insulin', 'Outcome']\n",
        "df = df[selected_features]"
      ],
      "metadata": {
        "id": "OEVszg21vkKs"
      },
      "execution_count": null,
      "outputs": []
    },
    {
      "cell_type": "code",
      "source": [
        "# 5. Nilai 0 jadi NaN untuk fitur tertentu\n",
        "for col in ['Glucose', 'BMI', 'Insulin']:\n",
        "    df[col] = df[col].replace(0, np.nan)\n",
        "\n",
        "# 6. Imputasi nilai NaN dengan median\n",
        "imputer = SimpleImputer(strategy='median')\n",
        "df[['Glucose', 'BMI', 'Insulin']] = imputer.fit_transform(df[['Glucose', 'BMI', 'Insulin']])\n",
        "\n",
        "# 7. Pisahkan fitur dan label\n",
        "X = df.drop('Outcome', axis=1)\n",
        "y = df['Outcome']"
      ],
      "metadata": {
        "id": "lOHFW3i9vmhl"
      },
      "execution_count": null,
      "outputs": []
    },
    {
      "cell_type": "code",
      "source": [
        "# 8. Split data train/test (sebelum normalisasi dan oversampling agar tidak ada data leak)\n",
        "X_train, X_test, y_train, y_test = train_test_split(\n",
        "    X, y, test_size=0.3, stratify=y, random_state=42\n",
        ")\n",
        "\n",
        "# 9. Normalisasi fitur\n",
        "scaler = StandardScaler()\n",
        "X_scaled = scaler.fit_transform(X_train)\n",
        "X_scaled_test = scaler.transform(X_test)\n",
        "\n",
        "# 10. Oversampling dengan SMOTE\n",
        "smote = SMOTE(random_state=42)\n",
        "X_resampled, y_resampled = smote.fit_resample(X_scaled, y_train)"
      ],
      "metadata": {
        "id": "aB3Y-sMZv4Xy"
      },
      "execution_count": null,
      "outputs": []
    },
    {
      "cell_type": "code",
      "source": [
        "# SVM - Grid search untuk hyperparameter tuning\n",
        "# Parameter yang akan diuji\n",
        "param_grid_svm = {\n",
        "    'C': [0.1, 1, 10, 100],              # regularization\n",
        "    'kernel': ['rbf', 'poly'], # jenis kernel\n",
        "    'gamma': [0.01, 0.1, 1]           # untuk rbf/poly\n",
        "}\n",
        "\n",
        "# Inisialisasi model SVM\n",
        "svm = SVC(random_state=42)\n",
        "\n",
        "# Grid Search\n",
        "grid_svm = GridSearchCV(\n",
        "    estimator=svm,\n",
        "    param_grid=param_grid_svm,\n",
        "    cv=10,\n",
        "    scoring='f1',\n",
        "    verbose=3\n",
        ")\n",
        "\n",
        "# Fit ke data\n",
        "grid_svm.fit(X_scaled, y_train)\n",
        "\n",
        "# Hasil terbaik\n",
        "print(\"Best SVM Params:\", grid_svm.best_params_)\n",
        "\n",
        "# Simpan model terbaik\n",
        "model_svm = grid_svm.best_estimator_"
      ],
      "metadata": {
        "id": "g7WvrdDfvyYr",
        "colab": {
          "base_uri": "https://localhost:8080/"
        },
        "outputId": "3d98b904-58da-4072-acc8-babb25f57782"
      },
      "execution_count": null,
      "outputs": [
        {
          "output_type": "stream",
          "name": "stdout",
          "text": [
            "Fitting 10 folds for each of 24 candidates, totalling 240 fits\n",
            "[CV 1/10] END ....C=0.1, gamma=0.01, kernel=rbf;, score=0.000 total time=   0.0s\n",
            "[CV 2/10] END ....C=0.1, gamma=0.01, kernel=rbf;, score=0.000 total time=   0.0s\n",
            "[CV 3/10] END ....C=0.1, gamma=0.01, kernel=rbf;, score=0.000 total time=   0.0s\n",
            "[CV 4/10] END ....C=0.1, gamma=0.01, kernel=rbf;, score=0.000 total time=   0.0s\n",
            "[CV 5/10] END ....C=0.1, gamma=0.01, kernel=rbf;, score=0.000 total time=   0.0s\n",
            "[CV 6/10] END ....C=0.1, gamma=0.01, kernel=rbf;, score=0.000 total time=   0.0s\n",
            "[CV 7/10] END ....C=0.1, gamma=0.01, kernel=rbf;, score=0.000 total time=   0.0s\n",
            "[CV 8/10] END ....C=0.1, gamma=0.01, kernel=rbf;, score=0.000 total time=   0.0s\n",
            "[CV 9/10] END ....C=0.1, gamma=0.01, kernel=rbf;, score=0.000 total time=   0.0s\n",
            "[CV 10/10] END ...C=0.1, gamma=0.01, kernel=rbf;, score=0.000 total time=   0.1s\n",
            "[CV 1/10] END ...C=0.1, gamma=0.01, kernel=poly;, score=0.000 total time=   0.0s\n",
            "[CV 2/10] END ...C=0.1, gamma=0.01, kernel=poly;, score=0.000 total time=   0.0s\n",
            "[CV 3/10] END ...C=0.1, gamma=0.01, kernel=poly;, score=0.000 total time=   0.0s\n",
            "[CV 4/10] END ...C=0.1, gamma=0.01, kernel=poly;, score=0.000 total time=   0.0s\n",
            "[CV 5/10] END ...C=0.1, gamma=0.01, kernel=poly;, score=0.000 total time=   0.0s\n",
            "[CV 6/10] END ...C=0.1, gamma=0.01, kernel=poly;, score=0.000 total time=   0.0s\n",
            "[CV 7/10] END ...C=0.1, gamma=0.01, kernel=poly;, score=0.000 total time=   0.0s\n",
            "[CV 8/10] END ...C=0.1, gamma=0.01, kernel=poly;, score=0.000 total time=   0.0s\n",
            "[CV 9/10] END ...C=0.1, gamma=0.01, kernel=poly;, score=0.000 total time=   0.0s\n",
            "[CV 10/10] END ..C=0.1, gamma=0.01, kernel=poly;, score=0.000 total time=   0.0s\n",
            "[CV 1/10] END .....C=0.1, gamma=0.1, kernel=rbf;, score=0.718 total time=   0.0s\n",
            "[CV 2/10] END .....C=0.1, gamma=0.1, kernel=rbf;, score=0.645 total time=   0.0s\n",
            "[CV 3/10] END .....C=0.1, gamma=0.1, kernel=rbf;, score=0.645 total time=   0.0s\n",
            "[CV 4/10] END .....C=0.1, gamma=0.1, kernel=rbf;, score=0.649 total time=   0.0s\n",
            "[CV 5/10] END .....C=0.1, gamma=0.1, kernel=rbf;, score=0.667 total time=   0.0s\n",
            "[CV 6/10] END .....C=0.1, gamma=0.1, kernel=rbf;, score=0.500 total time=   0.0s\n",
            "[CV 7/10] END .....C=0.1, gamma=0.1, kernel=rbf;, score=0.444 total time=   0.0s\n",
            "[CV 8/10] END .....C=0.1, gamma=0.1, kernel=rbf;, score=0.743 total time=   0.0s\n",
            "[CV 9/10] END .....C=0.1, gamma=0.1, kernel=rbf;, score=0.500 total time=   0.0s\n",
            "[CV 10/10] END ....C=0.1, gamma=0.1, kernel=rbf;, score=0.519 total time=   0.0s\n",
            "[CV 1/10] END ....C=0.1, gamma=0.1, kernel=poly;, score=0.095 total time=   0.0s\n",
            "[CV 2/10] END ....C=0.1, gamma=0.1, kernel=poly;, score=0.190 total time=   0.0s\n",
            "[CV 3/10] END ....C=0.1, gamma=0.1, kernel=poly;, score=0.095 total time=   0.0s\n",
            "[CV 4/10] END ....C=0.1, gamma=0.1, kernel=poly;, score=0.261 total time=   0.0s\n",
            "[CV 5/10] END ....C=0.1, gamma=0.1, kernel=poly;, score=0.095 total time=   0.0s\n",
            "[CV 6/10] END ....C=0.1, gamma=0.1, kernel=poly;, score=0.100 total time=   0.0s\n",
            "[CV 7/10] END ....C=0.1, gamma=0.1, kernel=poly;, score=0.100 total time=   0.0s\n",
            "[CV 8/10] END ....C=0.1, gamma=0.1, kernel=poly;, score=0.000 total time=   0.0s\n",
            "[CV 9/10] END ....C=0.1, gamma=0.1, kernel=poly;, score=0.000 total time=   0.0s\n",
            "[CV 10/10] END ...C=0.1, gamma=0.1, kernel=poly;, score=0.200 total time=   0.0s\n",
            "[CV 1/10] END .......C=0.1, gamma=1, kernel=rbf;, score=0.519 total time=   0.0s\n",
            "[CV 2/10] END .......C=0.1, gamma=1, kernel=rbf;, score=0.190 total time=   0.0s\n",
            "[CV 3/10] END .......C=0.1, gamma=1, kernel=rbf;, score=0.095 total time=   0.0s\n",
            "[CV 4/10] END .......C=0.1, gamma=1, kernel=rbf;, score=0.348 total time=   0.0s\n",
            "[CV 5/10] END .......C=0.1, gamma=1, kernel=rbf;, score=0.174 total time=   0.0s\n",
            "[CV 6/10] END .......C=0.1, gamma=1, kernel=rbf;, score=0.190 total time=   0.0s\n",
            "[CV 7/10] END .......C=0.1, gamma=1, kernel=rbf;, score=0.091 total time=   0.0s\n",
            "[CV 8/10] END .......C=0.1, gamma=1, kernel=rbf;, score=0.190 total time=   0.0s\n",
            "[CV 9/10] END .......C=0.1, gamma=1, kernel=rbf;, score=0.286 total time=   0.1s\n",
            "[CV 10/10] END ......C=0.1, gamma=1, kernel=rbf;, score=0.105 total time=   0.0s\n",
            "[CV 1/10] END ......C=0.1, gamma=1, kernel=poly;, score=0.533 total time=   0.1s\n",
            "[CV 2/10] END ......C=0.1, gamma=1, kernel=poly;, score=0.519 total time=   0.1s\n",
            "[CV 3/10] END ......C=0.1, gamma=1, kernel=poly;, score=0.462 total time=   0.1s\n",
            "[CV 4/10] END ......C=0.1, gamma=1, kernel=poly;, score=0.625 total time=   0.1s\n",
            "[CV 5/10] END ......C=0.1, gamma=1, kernel=poly;, score=0.625 total time=   0.0s\n",
            "[CV 6/10] END ......C=0.1, gamma=1, kernel=poly;, score=0.571 total time=   0.1s\n",
            "[CV 7/10] END ......C=0.1, gamma=1, kernel=poly;, score=0.429 total time=   0.1s\n",
            "[CV 8/10] END ......C=0.1, gamma=1, kernel=poly;, score=0.500 total time=   0.0s\n",
            "[CV 9/10] END ......C=0.1, gamma=1, kernel=poly;, score=0.250 total time=   0.1s\n",
            "[CV 10/10] END .....C=0.1, gamma=1, kernel=poly;, score=0.417 total time=   0.1s\n",
            "[CV 1/10] END ......C=1, gamma=0.01, kernel=rbf;, score=0.750 total time=   0.0s\n",
            "[CV 2/10] END ......C=1, gamma=0.01, kernel=rbf;, score=0.667 total time=   0.0s\n",
            "[CV 3/10] END ......C=1, gamma=0.01, kernel=rbf;, score=0.686 total time=   0.0s\n",
            "[CV 4/10] END ......C=1, gamma=0.01, kernel=rbf;, score=0.649 total time=   0.0s\n",
            "[CV 5/10] END ......C=1, gamma=0.01, kernel=rbf;, score=0.667 total time=   0.0s\n",
            "[CV 6/10] END ......C=1, gamma=0.01, kernel=rbf;, score=0.600 total time=   0.0s\n",
            "[CV 7/10] END ......C=1, gamma=0.01, kernel=rbf;, score=0.483 total time=   0.0s\n",
            "[CV 8/10] END ......C=1, gamma=0.01, kernel=rbf;, score=0.743 total time=   0.1s\n",
            "[CV 9/10] END ......C=1, gamma=0.01, kernel=rbf;, score=0.500 total time=   0.1s\n",
            "[CV 10/10] END .....C=1, gamma=0.01, kernel=rbf;, score=0.552 total time=   0.1s\n",
            "[CV 1/10] END .....C=1, gamma=0.01, kernel=poly;, score=0.000 total time=   0.0s\n",
            "[CV 2/10] END .....C=1, gamma=0.01, kernel=poly;, score=0.000 total time=   0.0s\n",
            "[CV 3/10] END .....C=1, gamma=0.01, kernel=poly;, score=0.000 total time=   0.0s\n",
            "[CV 4/10] END .....C=1, gamma=0.01, kernel=poly;, score=0.000 total time=   0.0s\n",
            "[CV 5/10] END .....C=1, gamma=0.01, kernel=poly;, score=0.000 total time=   0.0s\n",
            "[CV 6/10] END .....C=1, gamma=0.01, kernel=poly;, score=0.000 total time=   0.0s\n",
            "[CV 7/10] END .....C=1, gamma=0.01, kernel=poly;, score=0.000 total time=   0.0s\n",
            "[CV 8/10] END .....C=1, gamma=0.01, kernel=poly;, score=0.000 total time=   0.0s\n",
            "[CV 9/10] END .....C=1, gamma=0.01, kernel=poly;, score=0.000 total time=   0.0s\n",
            "[CV 10/10] END ....C=1, gamma=0.01, kernel=poly;, score=0.000 total time=   0.0s\n",
            "[CV 1/10] END .......C=1, gamma=0.1, kernel=rbf;, score=0.762 total time=   0.0s\n",
            "[CV 2/10] END .......C=1, gamma=0.1, kernel=rbf;, score=0.562 total time=   0.0s\n",
            "[CV 3/10] END .......C=1, gamma=0.1, kernel=rbf;, score=0.688 total time=   0.0s\n",
            "[CV 4/10] END .......C=1, gamma=0.1, kernel=rbf;, score=0.667 total time=   0.0s\n",
            "[CV 5/10] END .......C=1, gamma=0.1, kernel=rbf;, score=0.667 total time=   0.0s\n",
            "[CV 6/10] END .......C=1, gamma=0.1, kernel=rbf;, score=0.645 total time=   0.0s\n",
            "[CV 7/10] END .......C=1, gamma=0.1, kernel=rbf;, score=0.429 total time=   0.0s\n",
            "[CV 8/10] END .......C=1, gamma=0.1, kernel=rbf;, score=0.765 total time=   0.1s\n",
            "[CV 9/10] END .......C=1, gamma=0.1, kernel=rbf;, score=0.571 total time=   0.0s\n",
            "[CV 10/10] END ......C=1, gamma=0.1, kernel=rbf;, score=0.552 total time=   0.1s\n",
            "[CV 1/10] END ......C=1, gamma=0.1, kernel=poly;, score=0.320 total time=   0.0s\n",
            "[CV 2/10] END ......C=1, gamma=0.1, kernel=poly;, score=0.417 total time=   0.0s\n",
            "[CV 3/10] END ......C=1, gamma=0.1, kernel=poly;, score=0.480 total time=   0.0s\n",
            "[CV 4/10] END ......C=1, gamma=0.1, kernel=poly;, score=0.571 total time=   0.1s\n",
            "[CV 5/10] END ......C=1, gamma=0.1, kernel=poly;, score=0.552 total time=   0.1s\n",
            "[CV 6/10] END ......C=1, gamma=0.1, kernel=poly;, score=0.480 total time=   0.1s\n",
            "[CV 7/10] END ......C=1, gamma=0.1, kernel=poly;, score=0.261 total time=   0.1s\n",
            "[CV 8/10] END ......C=1, gamma=0.1, kernel=poly;, score=0.348 total time=   0.1s\n",
            "[CV 9/10] END ......C=1, gamma=0.1, kernel=poly;, score=0.286 total time=   0.1s\n",
            "[CV 10/10] END .....C=1, gamma=0.1, kernel=poly;, score=0.364 total time=   0.1s\n",
            "[CV 1/10] END .........C=1, gamma=1, kernel=rbf;, score=0.711 total time=   0.0s\n",
            "[CV 2/10] END .........C=1, gamma=1, kernel=rbf;, score=0.595 total time=   0.0s\n",
            "[CV 3/10] END .........C=1, gamma=1, kernel=rbf;, score=0.743 total time=   0.1s\n",
            "[CV 4/10] END .........C=1, gamma=1, kernel=rbf;, score=0.706 total time=   0.0s\n",
            "[CV 5/10] END .........C=1, gamma=1, kernel=rbf;, score=0.703 total time=   0.0s\n",
            "[CV 6/10] END .........C=1, gamma=1, kernel=rbf;, score=0.688 total time=   0.0s\n",
            "[CV 7/10] END .........C=1, gamma=1, kernel=rbf;, score=0.414 total time=   0.0s\n",
            "[CV 8/10] END .........C=1, gamma=1, kernel=rbf;, score=0.722 total time=   0.0s\n",
            "[CV 9/10] END .........C=1, gamma=1, kernel=rbf;, score=0.588 total time=   0.0s\n",
            "[CV 10/10] END ........C=1, gamma=1, kernel=rbf;, score=0.625 total time=   0.0s\n",
            "[CV 1/10] END ........C=1, gamma=1, kernel=poly;, score=0.516 total time=   0.4s\n",
            "[CV 2/10] END ........C=1, gamma=1, kernel=poly;, score=0.519 total time=   0.5s\n",
            "[CV 3/10] END ........C=1, gamma=1, kernel=poly;, score=0.444 total time=   0.8s\n",
            "[CV 4/10] END ........C=1, gamma=1, kernel=poly;, score=0.645 total time=   0.7s\n",
            "[CV 5/10] END ........C=1, gamma=1, kernel=poly;, score=0.581 total time=   0.3s\n",
            "[CV 6/10] END ........C=1, gamma=1, kernel=poly;, score=0.571 total time=   0.4s\n",
            "[CV 7/10] END ........C=1, gamma=1, kernel=poly;, score=0.429 total time=   0.9s\n",
            "[CV 8/10] END ........C=1, gamma=1, kernel=poly;, score=0.500 total time=   0.5s\n",
            "[CV 9/10] END ........C=1, gamma=1, kernel=poly;, score=0.250 total time=   0.6s\n",
            "[CV 10/10] END .......C=1, gamma=1, kernel=poly;, score=0.417 total time=   0.5s\n",
            "[CV 1/10] END .....C=10, gamma=0.01, kernel=rbf;, score=0.780 total time=   0.0s\n",
            "[CV 2/10] END .....C=10, gamma=0.01, kernel=rbf;, score=0.625 total time=   0.0s\n",
            "[CV 3/10] END .....C=10, gamma=0.01, kernel=rbf;, score=0.778 total time=   0.0s\n",
            "[CV 4/10] END .....C=10, gamma=0.01, kernel=rbf;, score=0.667 total time=   0.0s\n",
            "[CV 5/10] END .....C=10, gamma=0.01, kernel=rbf;, score=0.667 total time=   0.0s\n",
            "[CV 6/10] END .....C=10, gamma=0.01, kernel=rbf;, score=0.645 total time=   0.0s\n",
            "[CV 7/10] END .....C=10, gamma=0.01, kernel=rbf;, score=0.429 total time=   0.0s\n",
            "[CV 8/10] END .....C=10, gamma=0.01, kernel=rbf;, score=0.706 total time=   0.0s\n",
            "[CV 9/10] END .....C=10, gamma=0.01, kernel=rbf;, score=0.500 total time=   0.0s\n",
            "[CV 10/10] END ....C=10, gamma=0.01, kernel=rbf;, score=0.552 total time=   0.0s\n",
            "[CV 1/10] END ....C=10, gamma=0.01, kernel=poly;, score=0.000 total time=   0.0s\n",
            "[CV 2/10] END ....C=10, gamma=0.01, kernel=poly;, score=0.000 total time=   0.0s\n",
            "[CV 3/10] END ....C=10, gamma=0.01, kernel=poly;, score=0.000 total time=   0.0s\n",
            "[CV 4/10] END ....C=10, gamma=0.01, kernel=poly;, score=0.000 total time=   0.0s\n",
            "[CV 5/10] END ....C=10, gamma=0.01, kernel=poly;, score=0.000 total time=   0.0s\n",
            "[CV 6/10] END ....C=10, gamma=0.01, kernel=poly;, score=0.000 total time=   0.0s\n",
            "[CV 7/10] END ....C=10, gamma=0.01, kernel=poly;, score=0.000 total time=   0.0s\n",
            "[CV 8/10] END ....C=10, gamma=0.01, kernel=poly;, score=0.000 total time=   0.0s\n",
            "[CV 9/10] END ....C=10, gamma=0.01, kernel=poly;, score=0.000 total time=   0.0s\n",
            "[CV 10/10] END ...C=10, gamma=0.01, kernel=poly;, score=0.000 total time=   0.0s\n",
            "[CV 1/10] END ......C=10, gamma=0.1, kernel=rbf;, score=0.727 total time=   0.0s\n",
            "[CV 2/10] END ......C=10, gamma=0.1, kernel=rbf;, score=0.629 total time=   0.0s\n",
            "[CV 3/10] END ......C=10, gamma=0.1, kernel=rbf;, score=0.645 total time=   0.0s\n",
            "[CV 4/10] END ......C=10, gamma=0.1, kernel=rbf;, score=0.743 total time=   0.0s\n",
            "[CV 5/10] END ......C=10, gamma=0.1, kernel=rbf;, score=0.629 total time=   0.0s\n",
            "[CV 6/10] END ......C=10, gamma=0.1, kernel=rbf;, score=0.625 total time=   0.0s\n",
            "[CV 7/10] END ......C=10, gamma=0.1, kernel=rbf;, score=0.533 total time=   0.0s\n",
            "[CV 8/10] END ......C=10, gamma=0.1, kernel=rbf;, score=0.727 total time=   0.0s\n",
            "[CV 9/10] END ......C=10, gamma=0.1, kernel=rbf;, score=0.562 total time=   0.0s\n",
            "[CV 10/10] END .....C=10, gamma=0.1, kernel=rbf;, score=0.600 total time=   0.0s\n",
            "[CV 1/10] END .....C=10, gamma=0.1, kernel=poly;, score=0.467 total time=   0.0s\n",
            "[CV 2/10] END .....C=10, gamma=0.1, kernel=poly;, score=0.462 total time=   0.0s\n",
            "[CV 3/10] END .....C=10, gamma=0.1, kernel=poly;, score=0.480 total time=   0.0s\n",
            "[CV 4/10] END .....C=10, gamma=0.1, kernel=poly;, score=0.621 total time=   0.0s\n",
            "[CV 5/10] END .....C=10, gamma=0.1, kernel=poly;, score=0.625 total time=   0.0s\n",
            "[CV 6/10] END .....C=10, gamma=0.1, kernel=poly;, score=0.519 total time=   0.0s\n",
            "[CV 7/10] END .....C=10, gamma=0.1, kernel=poly;, score=0.308 total time=   0.0s\n",
            "[CV 8/10] END .....C=10, gamma=0.1, kernel=poly;, score=0.462 total time=   0.0s\n",
            "[CV 9/10] END .....C=10, gamma=0.1, kernel=poly;, score=0.250 total time=   0.0s\n",
            "[CV 10/10] END ....C=10, gamma=0.1, kernel=poly;, score=0.417 total time=   0.0s\n",
            "[CV 1/10] END ........C=10, gamma=1, kernel=rbf;, score=0.545 total time=   0.0s\n",
            "[CV 2/10] END ........C=10, gamma=1, kernel=rbf;, score=0.556 total time=   0.0s\n",
            "[CV 3/10] END ........C=10, gamma=1, kernel=rbf;, score=0.588 total time=   0.0s\n",
            "[CV 4/10] END ........C=10, gamma=1, kernel=rbf;, score=0.533 total time=   0.0s\n",
            "[CV 5/10] END ........C=10, gamma=1, kernel=rbf;, score=0.718 total time=   0.0s\n",
            "[CV 6/10] END ........C=10, gamma=1, kernel=rbf;, score=0.667 total time=   0.0s\n",
            "[CV 7/10] END ........C=10, gamma=1, kernel=rbf;, score=0.296 total time=   0.0s\n",
            "[CV 8/10] END ........C=10, gamma=1, kernel=rbf;, score=0.500 total time=   0.0s\n",
            "[CV 9/10] END ........C=10, gamma=1, kernel=rbf;, score=0.595 total time=   0.0s\n",
            "[CV 10/10] END .......C=10, gamma=1, kernel=rbf;, score=0.629 total time=   0.0s\n",
            "[CV 1/10] END .......C=10, gamma=1, kernel=poly;, score=0.516 total time=   0.9s\n",
            "[CV 2/10] END .......C=10, gamma=1, kernel=poly;, score=0.519 total time=   1.2s\n",
            "[CV 3/10] END .......C=10, gamma=1, kernel=poly;, score=0.444 total time=   1.9s\n",
            "[CV 4/10] END .......C=10, gamma=1, kernel=poly;, score=0.645 total time=   1.2s\n",
            "[CV 5/10] END .......C=10, gamma=1, kernel=poly;, score=0.581 total time=   2.8s\n",
            "[CV 6/10] END .......C=10, gamma=1, kernel=poly;, score=0.571 total time=   1.5s\n",
            "[CV 7/10] END .......C=10, gamma=1, kernel=poly;, score=0.429 total time=   4.0s\n",
            "[CV 8/10] END .......C=10, gamma=1, kernel=poly;, score=0.500 total time=   1.2s\n",
            "[CV 9/10] END .......C=10, gamma=1, kernel=poly;, score=0.250 total time=   2.0s\n",
            "[CV 10/10] END ......C=10, gamma=1, kernel=poly;, score=0.417 total time=   1.7s\n",
            "[CV 1/10] END ....C=100, gamma=0.01, kernel=rbf;, score=0.769 total time=   0.0s\n",
            "[CV 2/10] END ....C=100, gamma=0.01, kernel=rbf;, score=0.562 total time=   0.0s\n",
            "[CV 3/10] END ....C=100, gamma=0.01, kernel=rbf;, score=0.600 total time=   0.0s\n",
            "[CV 4/10] END ....C=100, gamma=0.01, kernel=rbf;, score=0.647 total time=   0.0s\n",
            "[CV 5/10] END ....C=100, gamma=0.01, kernel=rbf;, score=0.667 total time=   0.0s\n",
            "[CV 6/10] END ....C=100, gamma=0.01, kernel=rbf;, score=0.600 total time=   0.0s\n",
            "[CV 7/10] END ....C=100, gamma=0.01, kernel=rbf;, score=0.429 total time=   0.0s\n",
            "[CV 8/10] END ....C=100, gamma=0.01, kernel=rbf;, score=0.706 total time=   0.0s\n",
            "[CV 9/10] END ....C=100, gamma=0.01, kernel=rbf;, score=0.519 total time=   0.0s\n",
            "[CV 10/10] END ...C=100, gamma=0.01, kernel=rbf;, score=0.519 total time=   0.0s\n",
            "[CV 1/10] END ...C=100, gamma=0.01, kernel=poly;, score=0.095 total time=   0.0s\n",
            "[CV 2/10] END ...C=100, gamma=0.01, kernel=poly;, score=0.190 total time=   0.0s\n",
            "[CV 3/10] END ...C=100, gamma=0.01, kernel=poly;, score=0.095 total time=   0.0s\n",
            "[CV 4/10] END ...C=100, gamma=0.01, kernel=poly;, score=0.261 total time=   0.0s\n",
            "[CV 5/10] END ...C=100, gamma=0.01, kernel=poly;, score=0.095 total time=   0.0s\n",
            "[CV 6/10] END ...C=100, gamma=0.01, kernel=poly;, score=0.100 total time=   0.0s\n",
            "[CV 7/10] END ...C=100, gamma=0.01, kernel=poly;, score=0.100 total time=   0.0s\n",
            "[CV 8/10] END ...C=100, gamma=0.01, kernel=poly;, score=0.000 total time=   0.0s\n",
            "[CV 9/10] END ...C=100, gamma=0.01, kernel=poly;, score=0.000 total time=   0.0s\n",
            "[CV 10/10] END ..C=100, gamma=0.01, kernel=poly;, score=0.200 total time=   0.0s\n",
            "[CV 1/10] END .....C=100, gamma=0.1, kernel=rbf;, score=0.723 total time=   0.0s\n",
            "[CV 2/10] END .....C=100, gamma=0.1, kernel=rbf;, score=0.611 total time=   0.0s\n",
            "[CV 3/10] END .....C=100, gamma=0.1, kernel=rbf;, score=0.667 total time=   0.0s\n",
            "[CV 4/10] END .....C=100, gamma=0.1, kernel=rbf;, score=0.703 total time=   0.0s\n",
            "[CV 5/10] END .....C=100, gamma=0.1, kernel=rbf;, score=0.556 total time=   0.0s\n",
            "[CV 6/10] END .....C=100, gamma=0.1, kernel=rbf;, score=0.688 total time=   0.0s\n",
            "[CV 7/10] END .....C=100, gamma=0.1, kernel=rbf;, score=0.516 total time=   0.0s\n",
            "[CV 8/10] END .....C=100, gamma=0.1, kernel=rbf;, score=0.667 total time=   0.0s\n",
            "[CV 9/10] END .....C=100, gamma=0.1, kernel=rbf;, score=0.581 total time=   0.0s\n",
            "[CV 10/10] END ....C=100, gamma=0.1, kernel=rbf;, score=0.562 total time=   0.0s\n",
            "[CV 1/10] END ....C=100, gamma=0.1, kernel=poly;, score=0.533 total time=   0.0s\n",
            "[CV 2/10] END ....C=100, gamma=0.1, kernel=poly;, score=0.519 total time=   0.0s\n",
            "[CV 3/10] END ....C=100, gamma=0.1, kernel=poly;, score=0.462 total time=   0.0s\n",
            "[CV 4/10] END ....C=100, gamma=0.1, kernel=poly;, score=0.625 total time=   0.0s\n",
            "[CV 5/10] END ....C=100, gamma=0.1, kernel=poly;, score=0.625 total time=   0.0s\n",
            "[CV 6/10] END ....C=100, gamma=0.1, kernel=poly;, score=0.571 total time=   0.0s\n",
            "[CV 7/10] END ....C=100, gamma=0.1, kernel=poly;, score=0.429 total time=   0.1s\n",
            "[CV 8/10] END ....C=100, gamma=0.1, kernel=poly;, score=0.500 total time=   0.0s\n",
            "[CV 9/10] END ....C=100, gamma=0.1, kernel=poly;, score=0.250 total time=   0.0s\n",
            "[CV 10/10] END ...C=100, gamma=0.1, kernel=poly;, score=0.417 total time=   0.0s\n",
            "[CV 1/10] END .......C=100, gamma=1, kernel=rbf;, score=0.500 total time=   0.0s\n",
            "[CV 2/10] END .......C=100, gamma=1, kernel=rbf;, score=0.526 total time=   0.0s\n",
            "[CV 3/10] END .......C=100, gamma=1, kernel=rbf;, score=0.513 total time=   0.0s\n",
            "[CV 4/10] END .......C=100, gamma=1, kernel=rbf;, score=0.647 total time=   0.0s\n",
            "[CV 5/10] END .......C=100, gamma=1, kernel=rbf;, score=0.619 total time=   0.0s\n",
            "[CV 6/10] END .......C=100, gamma=1, kernel=rbf;, score=0.625 total time=   0.0s\n",
            "[CV 7/10] END .......C=100, gamma=1, kernel=rbf;, score=0.333 total time=   0.0s\n",
            "[CV 8/10] END .......C=100, gamma=1, kernel=rbf;, score=0.276 total time=   0.0s\n",
            "[CV 9/10] END .......C=100, gamma=1, kernel=rbf;, score=0.615 total time=   0.0s\n",
            "[CV 10/10] END ......C=100, gamma=1, kernel=rbf;, score=0.514 total time=   0.0s\n",
            "[CV 1/10] END ......C=100, gamma=1, kernel=poly;, score=0.516 total time=  10.5s\n",
            "[CV 2/10] END ......C=100, gamma=1, kernel=poly;, score=0.519 total time=  13.2s\n",
            "[CV 3/10] END ......C=100, gamma=1, kernel=poly;, score=0.444 total time=  12.0s\n",
            "[CV 4/10] END ......C=100, gamma=1, kernel=poly;, score=0.645 total time=  16.0s\n",
            "[CV 5/10] END ......C=100, gamma=1, kernel=poly;, score=0.581 total time=  13.8s\n",
            "[CV 6/10] END ......C=100, gamma=1, kernel=poly;, score=0.571 total time=  15.0s\n",
            "[CV 7/10] END ......C=100, gamma=1, kernel=poly;, score=0.429 total time=  47.1s\n",
            "[CV 8/10] END ......C=100, gamma=1, kernel=poly;, score=0.500 total time=   8.6s\n",
            "[CV 9/10] END ......C=100, gamma=1, kernel=poly;, score=0.250 total time=  15.1s\n",
            "[CV 10/10] END .....C=100, gamma=1, kernel=poly;, score=0.417 total time=  44.3s\n",
            "Best SVM Params: {'C': 1, 'gamma': 1, 'kernel': 'rbf'}\n"
          ]
        }
      ]
    },
    {
      "cell_type": "code",
      "source": [
        "# 10. Evaluasi model\n",
        "y_pred = model_svm.predict(X_scaled_test)\n",
        "\n",
        "print(\"\\n=== Classification Report ===\")\n",
        "print(classification_report(y_test, y_pred, target_names=[\"Negatif\", \"Positif\"]))\n",
        "print(\"Akurasi:\", accuracy_score(y_test, y_pred))"
      ],
      "metadata": {
        "id": "0UFwFttHv1N1",
        "colab": {
          "base_uri": "https://localhost:8080/"
        },
        "outputId": "4221e52f-19f1-4224-c4a7-a3a5af35fff5"
      },
      "execution_count": null,
      "outputs": [
        {
          "output_type": "stream",
          "name": "stdout",
          "text": [
            "\n",
            "=== Classification Report ===\n",
            "              precision    recall  f1-score   support\n",
            "\n",
            "     Negatif       0.79      0.84      0.82       150\n",
            "     Positif       0.67      0.59      0.63        81\n",
            "\n",
            "    accuracy                           0.75       231\n",
            "   macro avg       0.73      0.72      0.72       231\n",
            "weighted avg       0.75      0.75      0.75       231\n",
            "\n",
            "Akurasi: 0.7532467532467533\n"
          ]
        }
      ]
    },
    {
      "cell_type": "code",
      "source": [
        "# Cek overfit\n",
        "y_train_pred = model_svm.predict(X_scaled)\n",
        "\n",
        "print(\"\\n=== Classification Report ===\")\n",
        "print(classification_report(y_train, y_train_pred, target_names=[\"Negatif\", \"Positif\"]))\n",
        "print(\"Akurasi:\", accuracy_score(y_train, y_train_pred))"
      ],
      "metadata": {
        "colab": {
          "base_uri": "https://localhost:8080/"
        },
        "id": "_vXNnhEnv9Nc",
        "outputId": "a9401b6e-d1b7-4142-a3e8-40b43619802e"
      },
      "execution_count": null,
      "outputs": [
        {
          "output_type": "stream",
          "name": "stdout",
          "text": [
            "\n",
            "=== Classification Report ===\n",
            "              precision    recall  f1-score   support\n",
            "\n",
            "     Negatif       0.85      0.91      0.88       350\n",
            "     Positif       0.81      0.70      0.75       187\n",
            "\n",
            "    accuracy                           0.84       537\n",
            "   macro avg       0.83      0.81      0.82       537\n",
            "weighted avg       0.84      0.84      0.84       537\n",
            "\n",
            "Akurasi: 0.839851024208566\n"
          ]
        }
      ]
    },
    {
      "cell_type": "code",
      "source": [
        "# 11. Confusion Matrix\n",
        "plt.figure(figsize=(6,5))\n",
        "sns.heatmap(confusion_matrix(y_test, y_pred), annot=True, fmt='d',\n",
        "            cmap='YlGnBu', xticklabels=[\"Negatif\", \"Positif\"], yticklabels=[\"Negatif\", \"Positif\"])\n",
        "plt.xlabel('Predicted')\n",
        "plt.ylabel('Actual')\n",
        "plt.title('Confusion Matrix')\n",
        "plt.show()"
      ],
      "metadata": {
        "colab": {
          "base_uri": "https://localhost:8080/",
          "height": 487
        },
        "id": "8-a3xdxiwIlN",
        "outputId": "39e9bafb-21c9-4cc0-bac7-51a416e8cb52"
      },
      "execution_count": null,
      "outputs": [
        {
          "output_type": "display_data",
          "data": {
            "text/plain": [
              "<Figure size 600x500 with 2 Axes>"
            ],
            "image/png": "[encoded data removed]"
          },
          "metadata": {}
        }
      ]
    }
  ]
}