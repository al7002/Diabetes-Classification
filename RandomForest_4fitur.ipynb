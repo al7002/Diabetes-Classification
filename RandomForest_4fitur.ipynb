{
  "nbformat": 4,
  "nbformat_minor": 0,
  "metadata": {
    "colab": {
      "provenance": []
    },
    "kernelspec": {
      "name": "python3",
      "display_name": "Python 3"
    },
    "language_info": {
      "name": "python"
    }
  },
  "cells": [
    {
      "cell_type": "code",
      "source": [
        "!pip install imbalanced-learn\n",
        "\n",
        "# 1. Mount Google Drive\n",
        "from google.colab import drive\n",
        "drive.mount('/content/drive')\n",
        "\n",
        "# 2. Import libraries\n",
        "import pandas as pd\n",
        "import numpy as np\n",
        "from sklearn.model_selection import train_test_split\n",
        "from sklearn.ensemble import RandomForestClassifier\n",
        "from sklearn.impute import SimpleImputer\n",
        "from sklearn.preprocessing import StandardScaler\n",
        "from sklearn.metrics import classification_report, confusion_matrix, accuracy_score\n",
        "import matplotlib.pyplot as plt\n",
        "import seaborn as sns\n",
        "from imblearn.over_sampling import SMOTE\n",
        "\n",
        "# 3. Baca dataset\n",
        "df = pd.read_csv('/content/drive/MyDrive/Tugas ML/diabetes.csv')\n",
        "\n",
        "# 4. Ambil hanya 4 fitur penting\n",
        "selected_features = ['Glucose', 'BMI', 'Age', 'Insulin', 'Outcome']\n",
        "df = df[selected_features]"
      ],
      "metadata": {
        "colab": {
          "base_uri": "https://localhost:8080/"
        },
        "id": "ULxDTEbVe_pM",
        "outputId": "2ae7152f-ec36-4878-d4ba-4c5db2f12545"
      },
      "execution_count": null,
      "outputs": [
        {
          "output_type": "stream",
          "name": "stdout",
          "text": [
            "Requirement already satisfied: imbalanced-learn in /usr/local/lib/python3.11/dist-packages (0.13.0)\n",
            "Requirement already satisfied: numpy<3,>=1.24.3 in /usr/local/lib/python3.11/dist-packages (from imbalanced-learn) (2.0.2)\n",
            "Requirement already satisfied: scipy<2,>=1.10.1 in /usr/local/lib/python3.11/dist-packages (from imbalanced-learn) (1.15.3)\n",
            "Requirement already satisfied: scikit-learn<2,>=1.3.2 in /usr/local/lib/python3.11/dist-packages (from imbalanced-learn) (1.6.1)\n",
            "Requirement already satisfied: sklearn-compat<1,>=0.1 in /usr/local/lib/python3.11/dist-packages (from imbalanced-learn) (0.1.3)\n",
            "Requirement already satisfied: joblib<2,>=1.1.1 in /usr/local/lib/python3.11/dist-packages (from imbalanced-learn) (1.5.1)\n",
            "Requirement already satisfied: threadpoolctl<4,>=2.0.0 in /usr/local/lib/python3.11/dist-packages (from imbalanced-learn) (3.6.0)\n",
            "Mounted at /content/drive\n"
          ]
        }
      ]
    },
    {
      "cell_type": "code",
      "source": [
        "# 5. Nilai 0 jadi NaN untuk fitur tertentu\n",
        "for col in ['Glucose', 'BMI', 'Insulin']:\n",
        "    df[col] = df[col].replace(0, np.nan)\n",
        "\n",
        "# 6. Imputasi nilai NaN dengan median\n",
        "imputer = SimpleImputer(strategy='median')\n",
        "df[['Glucose', 'BMI', 'Insulin']] = imputer.fit_transform(df[['Glucose', 'BMI', 'Insulin']])\n",
        "\n",
        "# 7. Pisahkan fitur dan label\n",
        "X = df.drop('Outcome', axis=1)\n",
        "y = df['Outcome']"
      ],
      "metadata": {
        "id": "K4d7PKFkfEw-"
      },
      "execution_count": null,
      "outputs": []
    },
    {
      "cell_type": "code",
      "source": [
        "# 8. Split data train/test (sebelum normalisasi dan oversampling agar tidak ada data leak)\n",
        "X_train, X_test, y_train, y_test = train_test_split(\n",
        "    X, y, test_size=0.3, stratify=y, random_state=42\n",
        ")\n",
        "\n",
        "# 9. Normalisasi fitur\n",
        "scaler = StandardScaler()\n",
        "X_scaled = scaler.fit_transform(X_train)\n",
        "X_scaled_test = scaler.transform(X_test)\n",
        "\n",
        "# 10. Oversampling dengan SMOTE\n",
        "smote = SMOTE(random_state=42)\n",
        "X_resampled, y_resampled = smote.fit_resample(X_scaled, y_train)"
      ],
      "metadata": {
        "id": "I5YWEQx0fFZg"
      },
      "execution_count": null,
      "outputs": []
    },
    {
      "cell_type": "code",
      "execution_count": null,
      "metadata": {
        "colab": {
          "base_uri": "https://localhost:8080/"
        },
        "id": "5kT2XsIJe9t3",
        "outputId": "51df40be-f066-42fe-8117-da83776b810f"
      },
      "outputs": [
        {
          "output_type": "stream",
          "name": "stdout",
          "text": [
            "Fitting 10 folds for each of 64 candidates, totalling 640 fits\n",
            "Best parameters: {'max_depth': 5, 'max_features': 'sqrt', 'min_samples_split': 2, 'n_estimators': 50}\n"
          ]
        }
      ],
      "source": [
        "# 11. Grid Search untuk tuning hyperparameter\n",
        "from sklearn.model_selection import GridSearchCV\n",
        "from sklearn.ensemble import RandomForestClassifier\n",
        "\n",
        "param_grid = {\n",
        "    'n_estimators': [50, 100, 250, 500],\n",
        "    'max_depth': [2, 4, 5, 10],\n",
        "    'max_features': ['sqrt'],\n",
        "    'min_samples_split': [2, 5, 7, 10]\n",
        "}\n",
        "\n",
        "rf = RandomForestClassifier(random_state=42)\n",
        "\n",
        "grid_search = GridSearchCV(\n",
        "    estimator=rf,\n",
        "    param_grid=param_grid,\n",
        "    cv=10,\n",
        "    scoring='f1',  # Bisa diganti 'recall' untuk fokus turunkan FN\n",
        "    n_jobs=-1,\n",
        "    verbose=1\n",
        ")\n",
        "\n",
        "grid_search.fit(X_scaled, y_train)\n",
        "\n",
        "# Ambil model terbaik dari hasil pencarian\n",
        "model = grid_search.best_estimator_\n",
        "print(\"Best parameters:\", grid_search.best_params_)"
      ]
    },
    {
      "cell_type": "code",
      "source": [
        "# 12. Evaluasi pada data test\n",
        "y_pred = model.predict(X_scaled_test)\n",
        "print(\"\\n=== Classification Report ===\")\n",
        "print(classification_report(y_test, y_pred, target_names=[\"Negatif\", \"Positif\"]))\n",
        "print(\"Akurasi:\", accuracy_score(y_test, y_pred))"
      ],
      "metadata": {
        "colab": {
          "base_uri": "https://localhost:8080/"
        },
        "id": "fjfHmC5pgXcv",
        "outputId": "868a5a33-dc47-4340-d3e9-19f81f12c7ae"
      },
      "execution_count": null,
      "outputs": [
        {
          "output_type": "stream",
          "name": "stdout",
          "text": [
            "\n",
            "=== Classification Report ===\n",
            "              precision    recall  f1-score   support\n",
            "\n",
            "     Negatif       0.78      0.85      0.82       150\n",
            "     Positif       0.67      0.56      0.61        81\n",
            "\n",
            "    accuracy                           0.75       231\n",
            "   macro avg       0.73      0.70      0.71       231\n",
            "weighted avg       0.74      0.75      0.74       231\n",
            "\n",
            "Akurasi: 0.7489177489177489\n"
          ]
        }
      ]
    },
    {
      "cell_type": "code",
      "source": [
        "# Cek overfit\n",
        "y_train_pred = model.predict(X_scaled)\n",
        "print(\"\\n=== Classification Report (Train) ===\")\n",
        "print(classification_report(y_train, y_train_pred, target_names=[\"Negatif\", \"Positif\"]))\n",
        "print(\"Akurasi (Train):\", accuracy_score(y_train, y_train_pred))"
      ],
      "metadata": {
        "colab": {
          "base_uri": "https://localhost:8080/"
        },
        "id": "AyNdtxq6gdHq",
        "outputId": "72230aa8-b67a-48e6-a976-ca2794d33dc3"
      },
      "execution_count": null,
      "outputs": [
        {
          "output_type": "stream",
          "name": "stdout",
          "text": [
            "\n",
            "=== Classification Report (Train) ===\n",
            "              precision    recall  f1-score   support\n",
            "\n",
            "     Negatif       0.87      0.93      0.90       350\n",
            "     Positif       0.84      0.74      0.79       187\n",
            "\n",
            "    accuracy                           0.86       537\n",
            "   macro avg       0.86      0.83      0.84       537\n",
            "weighted avg       0.86      0.86      0.86       537\n",
            "\n",
            "Akurasi (Train): 0.8621973929236499\n"
          ]
        }
      ]
    },
    {
      "cell_type": "code",
      "source": [
        "# 11. Confusion Matrix\n",
        "plt.figure(figsize=(6,5))\n",
        "sns.heatmap(confusion_matrix(y_test, y_pred), annot=True, fmt='d',\n",
        "            cmap='YlGnBu', xticklabels=[\"Negatif\", \"Positif\"], yticklabels=[\"Negatif\", \"Positif\"])\n",
        "plt.xlabel('Predicted')\n",
        "plt.ylabel('Actual')\n",
        "plt.title('Confusion Matrix')\n",
        "plt.show()"
      ],
      "metadata": {
        "colab": {
          "base_uri": "https://localhost:8080/",
          "height": 487
        },
        "id": "-bsacJFan6LA",
        "outputId": "1d7a5983-1c50-454b-e3fb-166d7180bdca"
      },
      "execution_count": null,
      "outputs": [
        {
          "output_type": "display_data",
          "data": {
            "text/plain": [
              "<Figure size 600x500 with 2 Axes>"
            ],
            "image/png": "[encoded data removed]"
          },
          "metadata": {}
        }
      ]
    }
  ]
}