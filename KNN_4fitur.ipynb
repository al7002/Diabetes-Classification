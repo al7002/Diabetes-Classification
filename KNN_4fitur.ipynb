{
  "nbformat": 4,
  "nbformat_minor": 0,
  "metadata": {
    "colab": {
      "provenance": []
    },
    "kernelspec": {
      "name": "python3",
      "display_name": "Python 3"
    },
    "language_info": {
      "name": "python"
    }
  },
  "cells": [
    {
      "cell_type": "code",
      "execution_count": null,
      "metadata": {
        "colab": {
          "base_uri": "https://localhost:8080/"
        },
        "id": "7cvmuPtuNyIx",
        "outputId": "e15573ed-c8e7-4e38-9aea-6fae1485852b"
      },
      "outputs": [
        {
          "output_type": "stream",
          "name": "stdout",
          "text": [
            "Requirement already satisfied: imbalanced-learn in /usr/local/lib/python3.11/dist-packages (0.13.0)\n",
            "Requirement already satisfied: numpy<3,>=1.24.3 in /usr/local/lib/python3.11/dist-packages (from imbalanced-learn) (2.0.2)\n",
            "Requirement already satisfied: scipy<2,>=1.10.1 in /usr/local/lib/python3.11/dist-packages (from imbalanced-learn) (1.15.3)\n",
            "Requirement already satisfied: scikit-learn<2,>=1.3.2 in /usr/local/lib/python3.11/dist-packages (from imbalanced-learn) (1.6.1)\n",
            "Requirement already satisfied: sklearn-compat<1,>=0.1 in /usr/local/lib/python3.11/dist-packages (from imbalanced-learn) (0.1.3)\n",
            "Requirement already satisfied: joblib<2,>=1.1.1 in /usr/local/lib/python3.11/dist-packages (from imbalanced-learn) (1.5.1)\n",
            "Requirement already satisfied: threadpoolctl<4,>=2.0.0 in /usr/local/lib/python3.11/dist-packages (from imbalanced-learn) (3.6.0)\n",
            "Mounted at /content/drive\n"
          ]
        }
      ],
      "source": [
        "!pip install imbalanced-learn\n",
        "\n",
        "# 1. Mount Google Drive\n",
        "from google.colab import drive\n",
        "drive.mount('/content/drive')\n",
        "\n",
        "# 2. Import libraries\n",
        "import pandas as pd\n",
        "import numpy as np\n",
        "from sklearn.model_selection import train_test_split\n",
        "from sklearn.impute import SimpleImputer\n",
        "from sklearn.preprocessing import StandardScaler\n",
        "from sklearn.metrics import classification_report, confusion_matrix, accuracy_score\n",
        "import matplotlib.pyplot as plt\n",
        "import seaborn as sns\n",
        "from imblearn.over_sampling import SMOTE\n",
        "from sklearn.neighbors import KNeighborsClassifier\n",
        "from sklearn.model_selection import GridSearchCV\n",
        "\n",
        "\n",
        "# SMOTE for oversampling\n",
        "from imblearn.over_sampling import SMOTE\n",
        "\n",
        "# 3. Baca dataset\n",
        "csv_path = '/content/drive/MyDrive/Tugas ML/diabetes.csv'\n",
        "df = pd.read_csv(csv_path)\n",
        "\n",
        "# 4. Ambil hanya 4 fitur penting\n",
        "selected_features = ['Glucose', 'BMI', 'Age', 'Insulin', 'Outcome']\n",
        "df = df[selected_features]\n",
        "\n",
        "# 5. Nilai 0 jadi NaN untuk fitur tertentu\n",
        "for col in ['Glucose', 'BMI', 'Insulin']:\n",
        "    df[col] = df[col].replace(0, np.nan)\n",
        "\n",
        "# 6. Imputasi nilai NaN dengan median\n",
        "imputer = SimpleImputer(strategy='median')\n",
        "df[['Glucose', 'BMI', 'Insulin']] = imputer.fit_transform(df[['Glucose', 'BMI', 'Insulin']])\n",
        "\n",
        "# 7. Pisahkan fitur dan label\n",
        "X = df.drop('Outcome', axis=1)\n",
        "y = df['Outcome']"
      ]
    },
    {
      "cell_type": "code",
      "source": [
        "# 8. Split data train/test (sebelum normalisasi dan oversampling agar tidak ada data leak)\n",
        "X_train, X_test, y_train, y_test = train_test_split(\n",
        "    X, y, test_size=0.3, stratify=y, random_state=42\n",
        ")\n",
        "\n",
        "# 9. Normalisasi fitur\n",
        "scaler = StandardScaler()\n",
        "X_scaled = scaler.fit_transform(X_train)\n",
        "X_scaled_test = scaler.transform(X_test)\n",
        "\n",
        "# 10. Oversampling dengan SMOTE\n",
        "smote = SMOTE(random_state=42)\n",
        "X_resampled, y_resampled = smote.fit_resample(X_scaled, y_train)"
      ],
      "metadata": {
        "id": "QaVhZtODObp4"
      },
      "execution_count": null,
      "outputs": []
    },
    {
      "cell_type": "code",
      "source": [
        "# 11. Latih model KNN dengan tuning\n",
        "param_grid_knn = {\n",
        "    'n_neighbors': [3, 5, 7, 9, 11],\n",
        "    'weights': ['uniform', 'distance'],\n",
        "    'metric': ['euclidean', 'manhattan']\n",
        "}\n",
        "\n",
        "# Inisialisasi model\n",
        "knn = KNeighborsClassifier()\n",
        "\n",
        "# Grid Search\n",
        "grid_knn = GridSearchCV(\n",
        "    estimator=knn,\n",
        "    param_grid=param_grid_knn,\n",
        "    cv=5,\n",
        "    scoring='f1',\n",
        "    verbose=2,\n",
        "    n_jobs=-1\n",
        ")\n",
        "\n",
        "# Fit ke data\n",
        "grid_knn.fit(X_scaled, y_train)\n",
        "\n",
        "# Hasil terbaik\n",
        "print(\"Best KNN Params:\", grid_knn.best_params_)\n",
        "\n",
        "# Simpan model terbaik\n",
        "model_knn = grid_knn.best_estimator_"
      ],
      "metadata": {
        "colab": {
          "base_uri": "https://localhost:8080/"
        },
        "id": "b0Prl7CEOz_7",
        "outputId": "9a50a0cf-d272-47f4-a51e-a57fc053e65b"
      },
      "execution_count": null,
      "outputs": [
        {
          "output_type": "stream",
          "name": "stdout",
          "text": [
            "Fitting 5 folds for each of 20 candidates, totalling 100 fits\n",
            "Best KNN Params: {'metric': 'manhattan', 'n_neighbors': 11, 'weights': 'uniform'}\n"
          ]
        }
      ]
    },
    {
      "cell_type": "code",
      "source": [
        "# 12. Evaluasi model\n",
        "y_pred = model_knn.predict(X_scaled_test)\n",
        "\n",
        "print(\"\\n=== Classification Report ===\")\n",
        "print(classification_report(y_test, y_pred, target_names=[\"Negatif\", \"Positif\"]))\n",
        "print(\"Akurasi:\", accuracy_score(y_test, y_pred))"
      ],
      "metadata": {
        "colab": {
          "base_uri": "https://localhost:8080/"
        },
        "id": "QXcEaz_IO87b",
        "outputId": "a7b4d0e0-13d9-4073-b375-23a14ee6041d"
      },
      "execution_count": null,
      "outputs": [
        {
          "output_type": "stream",
          "name": "stdout",
          "text": [
            "\n",
            "=== Classification Report ===\n",
            "              precision    recall  f1-score   support\n",
            "\n",
            "     Negatif       0.80      0.85      0.82       150\n",
            "     Positif       0.69      0.59      0.64        81\n",
            "\n",
            "    accuracy                           0.76       231\n",
            "   macro avg       0.74      0.72      0.73       231\n",
            "weighted avg       0.76      0.76      0.76       231\n",
            "\n",
            "Akurasi: 0.7619047619047619\n"
          ]
        }
      ]
    },
    {
      "cell_type": "code",
      "source": [
        "# Cek overfit\n",
        "y_train_pred = model_knn.predict(X_scaled)\n",
        "\n",
        "print(\"\\n=== Classification Report ===\")\n",
        "print(classification_report(y_train, y_train_pred, target_names=[\"Negatif\", \"Positif\"]))\n",
        "print(\"Akurasi:\", accuracy_score(y_train, y_train_pred))"
      ],
      "metadata": {
        "colab": {
          "base_uri": "https://localhost:8080/"
        },
        "id": "PJfBXkywPAjD",
        "outputId": "3270c06c-1d85-45d1-8b6b-950156afbbe1"
      },
      "execution_count": null,
      "outputs": [
        {
          "output_type": "stream",
          "name": "stdout",
          "text": [
            "\n",
            "=== Classification Report ===\n",
            "              precision    recall  f1-score   support\n",
            "\n",
            "     Negatif       0.82      0.87      0.85       350\n",
            "     Positif       0.73      0.64      0.68       187\n",
            "\n",
            "    accuracy                           0.79       537\n",
            "   macro avg       0.78      0.76      0.77       537\n",
            "weighted avg       0.79      0.79      0.79       537\n",
            "\n",
            "Akurasi: 0.7932960893854749\n"
          ]
        }
      ]
    },
    {
      "cell_type": "code",
      "source": [
        "# 12. Confusion Matrix\n",
        "plt.figure(figsize=(6,5))\n",
        "sns.heatmap(confusion_matrix(y_test, y_pred), annot=True, fmt='d',\n",
        "            cmap='YlGnBu', xticklabels=[\"Negatif\", \"Positif\"], yticklabels=[\"Negatif\", \"Positif\"])\n",
        "plt.xlabel('Predicted')\n",
        "plt.ylabel('Actual')\n",
        "plt.title('Confusion Matrix')\n",
        "plt.show()"
      ],
      "metadata": {
        "colab": {
          "base_uri": "https://localhost:8080/",
          "height": 487
        },
        "id": "W4ZDczkBPFVI",
        "outputId": "0bc922c5-759d-4494-c484-4e1324d028bb"
      },
      "execution_count": null,
      "outputs": [
        {
          "output_type": "display_data",
          "data": {
            "text/plain": [
              "<Figure size 600x500 with 2 Axes>"
            ],
            "image/png": "[encoded data removed]"
          },
          "metadata": {}
        }
      ]
    }
  ]
}